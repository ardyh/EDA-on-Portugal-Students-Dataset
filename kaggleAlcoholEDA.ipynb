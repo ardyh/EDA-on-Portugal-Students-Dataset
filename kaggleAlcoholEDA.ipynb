{
 "cells": [
  {
   "cell_type": "markdown",
   "metadata": {
    "_cell_guid": "1bb3a3bc-81b0-4df4-a549-d46f9d950239",
    "_uuid": "87972ede9210eab992358418461afdf30f582a8c"
   },
   "source": [
    "# **INTRODUCTION & DATA PROFILE**\n",
    "\n",
    "Hello there, I'll do some tweakings and mining on this data. Basically it's a dataset about students' alcohol consumption taken on two high schools in Portugal. The insights taken from this data might not depict the overall culture in Portugal, as the sample is very small and localized, but I believe interesting insights still dwell here nevertheless."
   ]
  },
  {
   "cell_type": "code",
   "execution_count": 2,
   "metadata": {
    "_uuid": "a2aed7ab61af802ce12ca2415305de91f7c0d10f"
   },
   "outputs": [
    {
     "name": "stdout",
     "output_type": "stream",
     "text": [
      "student-mat.csv\n",
      "student-merge.R\n",
      "student-por.csv\n",
      "\n"
     ]
    }
   ],
   "source": [
    "# This Python 3 environment comes with many helpful analytics libraries installed\n",
    "# It is defined by the kaggle/python docker image: https://github.com/kaggle/docker-python\n",
    "# For example, here's several helpful packages to load in \n",
    "\n",
    "import numpy as np # linear algebra\n",
    "import pandas as pd # data processing, CSV file I/O (e.g. pd.read_csv)\n",
    "import seaborn as sns # visualize\n",
    "import matplotlib.pyplot as plt\n",
    "# Input data files are available in the \"../input/\" directory.\n",
    "# For example, running this (by clicking run or pressing Shift+Enter) will list the files in the input directory\n",
    "\n",
    "from subprocess import check_output\n",
    "print(check_output([\"ls\", \"input\"]).decode(\"utf8\"))\n",
    "\n",
    "# Any results you write to the current directory are saved as output."
   ]
  },
  {
   "cell_type": "code",
   "execution_count": 3,
   "metadata": {
    "_uuid": "5686e1abf6db9cf9254a79907d70e4cc37796a6e"
   },
   "outputs": [],
   "source": [
    "data = pd.read_csv('input/student-mat.csv')"
   ]
  },
  {
   "cell_type": "markdown",
   "metadata": {
    "_uuid": "629e1f0958b9fbaf24950e23a58ad6cfd2aa77e3"
   },
   "source": [
    "# **Pre-processing**\n",
    "\n"
   ]
  },
  {
   "cell_type": "code",
   "execution_count": 4,
   "metadata": {
    "_uuid": "b0c19e5db419bec1b209416f81b970ad62213e28"
   },
   "outputs": [
    {
     "data": {
      "text/plain": [
       "school        0\n",
       "sex           0\n",
       "age           0\n",
       "address       0\n",
       "famsize       0\n",
       "Pstatus       0\n",
       "Medu          0\n",
       "Fedu          0\n",
       "Mjob          0\n",
       "Fjob          0\n",
       "reason        0\n",
       "guardian      0\n",
       "traveltime    0\n",
       "studytime     0\n",
       "failures      0\n",
       "schoolsup     0\n",
       "famsup        0\n",
       "paid          0\n",
       "activities    0\n",
       "nursery       0\n",
       "higher        0\n",
       "internet      0\n",
       "romantic      0\n",
       "famrel        0\n",
       "freetime      0\n",
       "goout         0\n",
       "Dalc          0\n",
       "Walc          0\n",
       "health        0\n",
       "absences      0\n",
       "G1            0\n",
       "G2            0\n",
       "G3            0\n",
       "dtype: int64"
      ]
     },
     "execution_count": 4,
     "metadata": {},
     "output_type": "execute_result"
    }
   ],
   "source": [
    "#looking for nulls\n",
    "data.isna().sum()"
   ]
  },
  {
   "cell_type": "markdown",
   "metadata": {
    "_uuid": "a28f6460ddc31cc80b79c503c20b201d58801aef"
   },
   "source": [
    "As it seems that the data has no nulls, I will proceed without doing anything. The search of outliers will be done along the analysis."
   ]
  },
  {
   "cell_type": "markdown",
   "metadata": {
    "_uuid": "77807634252f7dde76de19db1612eec9aa750a1a"
   },
   "source": [
    "**About The Schools **\n",
    "\n",
    "**Escola Secundária Gabriel Pereira** (We'll call it GP)\n",
    "\n",
    "In english, you roughly guess that it's a secondary school (We'll see later whether it's a middle school or high school). It's a school located on Évora, one of the tourist cities in Portugal, as it is also one of the UNESCO's world heritage, as it hosts   various historic monuments and the \"old-time\" architecture is very well preserved throughout the city. It has a population of 56,596 and 1307.08 km². An interesting fact about the school, it actually has a short profile hosted in OECD's education site, which says that it has some exemplary profiles as a school (source : http://edfacilitiesinvestment-db.org/facilities/37)\n",
    "Within all my limitations, I can say that this is an exemplary school located in a prosper city.\n",
    "\n",
    "**Escola Secundária Mouzinho da Silveira** (We'll call it MS)\n",
    "\n",
    "It is also a secondary school, which is located on the of Portalegre, a city 447.14 square kilometres wide near the borders of Portugal and Spanish with 24,930 people living in it. I can't find any specific information regarding the school in english, so I can't provide as much info as I did with GP (Gabriel Pereira).\n",
    "\n",
    "These informations might just pass as trivias, but I think it's pretty important to gather informations about the schools we're going to analyze, as it might very well provide a good insight on the reason for the student's behavior"
   ]
  },
  {
   "cell_type": "code",
   "execution_count": 5,
   "metadata": {
    "_cell_guid": "1b606c5b-7909-41fb-b6db-9c40dbe114c0",
    "_uuid": "7616d99b68e7b6a537f09febebd2c7ba537988d4"
   },
   "outputs": [
    {
     "name": "stdout",
     "output_type": "stream",
     "text": [
      "Number of students of MS who took the test:  46\n",
      "Number of students of DP who took the test:  349\n"
     ]
    }
   ],
   "source": [
    "#Data of students from MS \n",
    "studentsMS = data[data['school'] == 'MS']\n",
    "print(\"Number of students of MS who took the test: \", studentsMS.shape[0])\n",
    "\n",
    "#Data of students from DP \n",
    "studentsDP = data[data['school'] == 'GP']\n",
    "print(\"Number of students of DP who took the test: \", studentsDP.shape[0])\n"
   ]
  },
  {
   "cell_type": "markdown",
   "metadata": {
    "_cell_guid": "a2bd7447-2a25-4b34-9039-ce9d5a189412",
    "_uuid": "3715434adb38139e24c7b31362774bb7905ea8c6"
   },
   "source": [
    "It seems that the students of MS who did the survey was way less than that of GP. Because of that I will be doing analysis separately for both schools."
   ]
  },
  {
   "cell_type": "markdown",
   "metadata": {
    "_uuid": "ea8f040a07a726eb1b3f0e569d0c509ed8423a06"
   },
   "source": [
    " **Analysis of Students' Data**\n",
    " \n",
    " So the first question would probably be the topic of the dataset itself;\n",
    " **Just how much student consumes alcohol from each school?**"
   ]
  },
  {
   "cell_type": "code",
   "execution_count": 6,
   "metadata": {
    "_uuid": "7e4f599394c3e9b12feedf10c703560ab67c709f"
   },
   "outputs": [
    {
     "name": "stdout",
     "output_type": "stream",
     "text": [
      "Mean Dalc of MS:  1.7608695652173914\n",
      "1    27\n",
      "2     8\n",
      "3     7\n",
      "4     3\n",
      "5     1\n",
      "Name: Dalc, dtype: int64\n"
     ]
    },
    {
     "data": {
      "text/plain": [
       "<matplotlib.axes._subplots.AxesSubplot at 0x7fb412eb7ac8>"
      ]
     },
     "execution_count": 6,
     "metadata": {},
     "output_type": "execute_result"
    },
    {
     "data": {
      "image/png": "[encoded data removed]",
      "text/plain": [
       "<Figure size 432x288 with 1 Axes>"
      ]
     },
     "metadata": {
      "needs_background": "light"
     },
     "output_type": "display_data"
    }
   ],
   "source": [
    "print(\"Mean Dalc of MS: \", studentsMS['Dalc'].mean())\n",
    "print(studentsMS['Dalc'].value_counts())\n",
    "studentsMS['Dalc'].plot.hist(bins=5)"
   ]
  },
  {
   "cell_type": "code",
   "execution_count": 7,
   "metadata": {
    "_uuid": "635ca1ea80008bcf1492c6ab0072ca27668831c6"
   },
   "outputs": [
    {
     "name": "stdout",
     "output_type": "stream",
     "text": [
      "Mean Dalc of MS:  2.5217391304347827\n",
      "3    16\n",
      "2    12\n",
      "1    10\n",
      "4     6\n",
      "5     2\n",
      "Name: Walc, dtype: int64\n"
     ]
    },
    {
     "data": {
      "text/plain": [
       "<matplotlib.axes._subplots.AxesSubplot at 0x7fb412b54438>"
      ]
     },
     "execution_count": 7,
     "metadata": {},
     "output_type": "execute_result"
    },
    {
     "data": {
      "image/png": "[encoded data removed]",
      "text/plain": [
       "<Figure size 432x288 with 1 Axes>"
      ]
     },
     "metadata": {
      "needs_background": "light"
     },
     "output_type": "display_data"
    }
   ],
   "source": [
    "print(\"Mean Dalc of MS: \", studentsMS['Walc'].mean())\n",
    "print(studentsMS['Walc'].value_counts())\n",
    "studentsMS['Walc'].plot.hist(bins=5)"
   ]
  },
  {
   "cell_type": "code",
   "execution_count": 8,
   "metadata": {
    "_uuid": "e40719660fd3a5593998fbc80e520a5445f2e88b"
   },
   "outputs": [
    {
     "name": "stdout",
     "output_type": "stream",
     "text": [
      "Mean Dalc of DP:  1.4441260744985673\n",
      "1    249\n",
      "2     67\n",
      "3     19\n",
      "5      8\n",
      "4      6\n",
      "Name: Dalc, dtype: int64\n"
     ]
    },
    {
     "data": {
      "text/plain": [
       "<matplotlib.axes._subplots.AxesSubplot at 0x7fb412ad52e8>"
      ]
     },
     "execution_count": 8,
     "metadata": {},
     "output_type": "execute_result"
    },
    {
     "data": {
      "image/png": "[encoded data removed]",
      "text/plain": [
       "<Figure size 432x288 with 1 Axes>"
      ]
     },
     "metadata": {
      "needs_background": "light"
     },
     "output_type": "display_data"
    }
   ],
   "source": [
    "print(\"Mean Dalc of DP: \", studentsDP['Dalc'].mean())\n",
    "print(studentsDP['Dalc'].value_counts())\n",
    "studentsDP['Dalc'].plot.hist(bins=5)"
   ]
  },
  {
   "cell_type": "code",
   "execution_count": 9,
   "metadata": {
    "_uuid": "a76f22ed21daa305682de844ba6621d7087145c9"
   },
   "outputs": [
    {
     "name": "stdout",
     "output_type": "stream",
     "text": [
      "Mean Dalc of DP:  2.5217391304347827\n",
      "1    141\n",
      "2     73\n",
      "3     64\n",
      "4     45\n",
      "5     26\n",
      "Name: Walc, dtype: int64\n"
     ]
    },
    {
     "data": {
      "text/plain": [
       "<matplotlib.axes._subplots.AxesSubplot at 0x7fb412ac9128>"
      ]
     },
     "execution_count": 9,
     "metadata": {},
     "output_type": "execute_result"
    },
    {
     "data": {
      "image/png": "[encoded data removed]",
      "text/plain": [
       "<Figure size 432x288 with 1 Axes>"
      ]
     },
     "metadata": {
      "needs_background": "light"
     },
     "output_type": "display_data"
    }
   ],
   "source": [
    "print(\"Mean Dalc of DP: \", studentsMS['Walc'].mean())\n",
    "print(studentsDP['Walc'].value_counts())\n",
    "studentsDP['Walc'].plot.hist(bins=5)"
   ]
  },
  {
   "cell_type": "markdown",
   "metadata": {
    "_uuid": "bc98322292b55ea14899fe1bd25e08458a947330"
   },
   "source": [
    "Looking at the results,it seems that nobody in either school has not consumed alcohol before, or maybe it is not possible to answer in the survey that you've never drunk alcohol "
   ]
  },
  {
   "cell_type": "markdown",
   "metadata": {
    "_cell_guid": "5466c359-bb65-4e19-85b1-494ba83bfb87",
    "_uuid": "ce4157a65adda117dd89b57c1124fad9dcb410f4"
   },
   "source": [
    "# How does alcohol consumption affect students?\n",
    "\n",
    "We'll do some questioning on the data, mostly to see how alcohol consumption affects many of student's life, not only grades. We'll divide the students from each schools into 3 groups: Low alcohol consumption(average consumption of 1), moderate alcohol consumption(average consumption of 2-3), and high alcohol consumption(average consumption of 4-5)\n",
    "\n",
    "**Question 1: How much difference is there at students' alcohol consumption on weekdays and weekends?**"
   ]
  },
  {
   "cell_type": "code",
   "execution_count": 10,
   "metadata": {
    "_cell_guid": "c80ff9eb-d22b-422d-8fa2-d5db3b37c413",
    "_uuid": "c25f28a509ff675b9b676cd560b284647fa0e66d"
   },
   "outputs": [
    {
     "name": "stdout",
     "output_type": "stream",
     "text": [
      "MS Students: \n",
      " -1    18\n",
      " 0    17\n",
      "-2     7\n",
      "-3     2\n",
      " 1     1\n",
      " 2     1\n",
      "dtype: int64\n",
      "DP Students: \n",
      "  0    171\n",
      "-1     91\n",
      "-2     63\n",
      "-3     18\n",
      "-4      4\n",
      " 1      2\n",
      "dtype: int64\n"
     ]
    }
   ],
   "source": [
    "#difference of alcohol consumption on weekdays and weekends:\n",
    "#on MS students:\n",
    "print(\"MS Students: \\n\",(studentsMS['Dalc'] - studentsMS['Walc']).value_counts())\n",
    "#on DP students:\n",
    "print(\"DP Students: \\n\",(studentsDP['Dalc'] - studentsDP['Walc']).value_counts())"
   ]
  },
  {
   "cell_type": "markdown",
   "metadata": {
    "_uuid": "73eebee8b4709cf77e80bb02390442d3096c9974"
   },
   "source": [
    "We can see different results for the two schools:\n",
    "1. Most of MS students consume a lot more on weekends than they did on weekdays(~40% ). The number who did that is almost the same as those whose consumption stays the same both on weekdays and weekends(~36%)\n",
    "2. Most of DP students' consumption is equal on weekdays and weekends(~I think it's those type who have low consumption either way, we'll see later on). Around 26% consume one point more alcohol on weekends than on weekdays."
   ]
  },
  {
   "cell_type": "code",
   "execution_count": 11,
   "metadata": {
    "_uuid": "c25faf952b21415e852a07ccf84d6079f7d874e3"
   },
   "outputs": [
    {
     "name": "stdout",
     "output_type": "stream",
     "text": [
      "(395, 33)\n"
     ]
    },
    {
     "data": {
      "text/html": [
       "<div>\n",
       "<style scoped>\n",
       "    .dataframe tbody tr th:only-of-type {\n",
       "        vertical-align: middle;\n",
       "    }\n",
       "\n",
       "    .dataframe tbody tr th {\n",
       "        vertical-align: top;\n",
       "    }\n",
       "\n",
       "    .dataframe thead th {\n",
       "        text-align: right;\n",
       "    }\n",
       "</style>\n",
       "<table border=\"1\" class=\"dataframe\">\n",
       "  <thead>\n",
       "    <tr style=\"text-align: right;\">\n",
       "      <th></th>\n",
       "      <th>school</th>\n",
       "      <th>sex</th>\n",
       "      <th>age</th>\n",
       "      <th>address</th>\n",
       "      <th>famsize</th>\n",
       "      <th>Pstatus</th>\n",
       "      <th>Medu</th>\n",
       "      <th>Fedu</th>\n",
       "      <th>Mjob</th>\n",
       "      <th>Fjob</th>\n",
       "      <th>...</th>\n",
       "      <th>famrel</th>\n",
       "      <th>freetime</th>\n",
       "      <th>goout</th>\n",
       "      <th>Dalc</th>\n",
       "      <th>Walc</th>\n",
       "      <th>health</th>\n",
       "      <th>absences</th>\n",
       "      <th>G1</th>\n",
       "      <th>G2</th>\n",
       "      <th>G3</th>\n",
       "    </tr>\n",
       "  </thead>\n",
       "  <tbody>\n",
       "    <tr>\n",
       "      <th>0</th>\n",
       "      <td>GP</td>\n",
       "      <td>F</td>\n",
       "      <td>18</td>\n",
       "      <td>U</td>\n",
       "      <td>GT3</td>\n",
       "      <td>A</td>\n",
       "      <td>4</td>\n",
       "      <td>4</td>\n",
       "      <td>at_home</td>\n",
       "      <td>teacher</td>\n",
       "      <td>...</td>\n",
       "      <td>4</td>\n",
       "      <td>3</td>\n",
       "      <td>4</td>\n",
       "      <td>1</td>\n",
       "      <td>1</td>\n",
       "      <td>3</td>\n",
       "      <td>6</td>\n",
       "      <td>5</td>\n",
       "      <td>6</td>\n",
       "      <td>6</td>\n",
       "    </tr>\n",
       "    <tr>\n",
       "      <th>1</th>\n",
       "      <td>GP</td>\n",
       "      <td>F</td>\n",
       "      <td>17</td>\n",
       "      <td>U</td>\n",
       "      <td>GT3</td>\n",
       "      <td>T</td>\n",
       "      <td>1</td>\n",
       "      <td>1</td>\n",
       "      <td>at_home</td>\n",
       "      <td>other</td>\n",
       "      <td>...</td>\n",
       "      <td>5</td>\n",
       "      <td>3</td>\n",
       "      <td>3</td>\n",
       "      <td>1</td>\n",
       "      <td>1</td>\n",
       "      <td>3</td>\n",
       "      <td>4</td>\n",
       "      <td>5</td>\n",
       "      <td>5</td>\n",
       "      <td>6</td>\n",
       "    </tr>\n",
       "    <tr>\n",
       "      <th>2</th>\n",
       "      <td>GP</td>\n",
       "      <td>F</td>\n",
       "      <td>15</td>\n",
       "      <td>U</td>\n",
       "      <td>LE3</td>\n",
       "      <td>T</td>\n",
       "      <td>1</td>\n",
       "      <td>1</td>\n",
       "      <td>at_home</td>\n",
       "      <td>other</td>\n",
       "      <td>...</td>\n",
       "      <td>4</td>\n",
       "      <td>3</td>\n",
       "      <td>2</td>\n",
       "      <td>2</td>\n",
       "      <td>3</td>\n",
       "      <td>3</td>\n",
       "      <td>10</td>\n",
       "      <td>7</td>\n",
       "      <td>8</td>\n",
       "      <td>10</td>\n",
       "    </tr>\n",
       "    <tr>\n",
       "      <th>3</th>\n",
       "      <td>GP</td>\n",
       "      <td>F</td>\n",
       "      <td>15</td>\n",
       "      <td>U</td>\n",
       "      <td>GT3</td>\n",
       "      <td>T</td>\n",
       "      <td>4</td>\n",
       "      <td>2</td>\n",
       "      <td>health</td>\n",
       "      <td>services</td>\n",
       "      <td>...</td>\n",
       "      <td>3</td>\n",
       "      <td>2</td>\n",
       "      <td>2</td>\n",
       "      <td>1</td>\n",
       "      <td>1</td>\n",
       "      <td>5</td>\n",
       "      <td>2</td>\n",
       "      <td>15</td>\n",
       "      <td>14</td>\n",
       "      <td>15</td>\n",
       "    </tr>\n",
       "    <tr>\n",
       "      <th>4</th>\n",
       "      <td>GP</td>\n",
       "      <td>F</td>\n",
       "      <td>16</td>\n",
       "      <td>U</td>\n",
       "      <td>GT3</td>\n",
       "      <td>T</td>\n",
       "      <td>3</td>\n",
       "      <td>3</td>\n",
       "      <td>other</td>\n",
       "      <td>other</td>\n",
       "      <td>...</td>\n",
       "      <td>4</td>\n",
       "      <td>3</td>\n",
       "      <td>2</td>\n",
       "      <td>1</td>\n",
       "      <td>2</td>\n",
       "      <td>5</td>\n",
       "      <td>4</td>\n",
       "      <td>6</td>\n",
       "      <td>10</td>\n",
       "      <td>10</td>\n",
       "    </tr>\n",
       "    <tr>\n",
       "      <th>5</th>\n",
       "      <td>GP</td>\n",
       "      <td>M</td>\n",
       "      <td>16</td>\n",
       "      <td>U</td>\n",
       "      <td>LE3</td>\n",
       "      <td>T</td>\n",
       "      <td>4</td>\n",
       "      <td>3</td>\n",
       "      <td>services</td>\n",
       "      <td>other</td>\n",
       "      <td>...</td>\n",
       "      <td>5</td>\n",
       "      <td>4</td>\n",
       "      <td>2</td>\n",
       "      <td>1</td>\n",
       "      <td>2</td>\n",
       "      <td>5</td>\n",
       "      <td>10</td>\n",
       "      <td>15</td>\n",
       "      <td>15</td>\n",
       "      <td>15</td>\n",
       "    </tr>\n",
       "    <tr>\n",
       "      <th>6</th>\n",
       "      <td>GP</td>\n",
       "      <td>M</td>\n",
       "      <td>16</td>\n",
       "      <td>U</td>\n",
       "      <td>LE3</td>\n",
       "      <td>T</td>\n",
       "      <td>2</td>\n",
       "      <td>2</td>\n",
       "      <td>other</td>\n",
       "      <td>other</td>\n",
       "      <td>...</td>\n",
       "      <td>4</td>\n",
       "      <td>4</td>\n",
       "      <td>4</td>\n",
       "      <td>1</td>\n",
       "      <td>1</td>\n",
       "      <td>3</td>\n",
       "      <td>0</td>\n",
       "      <td>12</td>\n",
       "      <td>12</td>\n",
       "      <td>11</td>\n",
       "    </tr>\n",
       "    <tr>\n",
       "      <th>7</th>\n",
       "      <td>GP</td>\n",
       "      <td>F</td>\n",
       "      <td>17</td>\n",
       "      <td>U</td>\n",
       "      <td>GT3</td>\n",
       "      <td>A</td>\n",
       "      <td>4</td>\n",
       "      <td>4</td>\n",
       "      <td>other</td>\n",
       "      <td>teacher</td>\n",
       "      <td>...</td>\n",
       "      <td>4</td>\n",
       "      <td>1</td>\n",
       "      <td>4</td>\n",
       "      <td>1</td>\n",
       "      <td>1</td>\n",
       "      <td>1</td>\n",
       "      <td>6</td>\n",
       "      <td>6</td>\n",
       "      <td>5</td>\n",
       "      <td>6</td>\n",
       "    </tr>\n",
       "    <tr>\n",
       "      <th>8</th>\n",
       "      <td>GP</td>\n",
       "      <td>M</td>\n",
       "      <td>15</td>\n",
       "      <td>U</td>\n",
       "      <td>LE3</td>\n",
       "      <td>A</td>\n",
       "      <td>3</td>\n",
       "      <td>2</td>\n",
       "      <td>services</td>\n",
       "      <td>other</td>\n",
       "      <td>...</td>\n",
       "      <td>4</td>\n",
       "      <td>2</td>\n",
       "      <td>2</td>\n",
       "      <td>1</td>\n",
       "      <td>1</td>\n",
       "      <td>1</td>\n",
       "      <td>0</td>\n",
       "      <td>16</td>\n",
       "      <td>18</td>\n",
       "      <td>19</td>\n",
       "    </tr>\n",
       "    <tr>\n",
       "      <th>9</th>\n",
       "      <td>GP</td>\n",
       "      <td>M</td>\n",
       "      <td>15</td>\n",
       "      <td>U</td>\n",
       "      <td>GT3</td>\n",
       "      <td>T</td>\n",
       "      <td>3</td>\n",
       "      <td>4</td>\n",
       "      <td>other</td>\n",
       "      <td>other</td>\n",
       "      <td>...</td>\n",
       "      <td>5</td>\n",
       "      <td>5</td>\n",
       "      <td>1</td>\n",
       "      <td>1</td>\n",
       "      <td>1</td>\n",
       "      <td>5</td>\n",
       "      <td>0</td>\n",
       "      <td>14</td>\n",
       "      <td>15</td>\n",
       "      <td>15</td>\n",
       "    </tr>\n",
       "  </tbody>\n",
       "</table>\n",
       "<p>10 rows × 33 columns</p>\n",
       "</div>"
      ],
      "text/plain": [
       "  school sex  age address famsize Pstatus  Medu  Fedu      Mjob      Fjob ...  \\\n",
       "0     GP   F   18       U     GT3       A     4     4   at_home   teacher ...   \n",
       "1     GP   F   17       U     GT3       T     1     1   at_home     other ...   \n",
       "2     GP   F   15       U     LE3       T     1     1   at_home     other ...   \n",
       "3     GP   F   15       U     GT3       T     4     2    health  services ...   \n",
       "4     GP   F   16       U     GT3       T     3     3     other     other ...   \n",
       "5     GP   M   16       U     LE3       T     4     3  services     other ...   \n",
       "6     GP   M   16       U     LE3       T     2     2     other     other ...   \n",
       "7     GP   F   17       U     GT3       A     4     4     other   teacher ...   \n",
       "8     GP   M   15       U     LE3       A     3     2  services     other ...   \n",
       "9     GP   M   15       U     GT3       T     3     4     other     other ...   \n",
       "\n",
       "  famrel freetime  goout  Dalc  Walc health absences  G1  G2  G3  \n",
       "0      4        3      4     1     1      3        6   5   6   6  \n",
       "1      5        3      3     1     1      3        4   5   5   6  \n",
       "2      4        3      2     2     3      3       10   7   8  10  \n",
       "3      3        2      2     1     1      5        2  15  14  15  \n",
       "4      4        3      2     1     2      5        4   6  10  10  \n",
       "5      5        4      2     1     2      5       10  15  15  15  \n",
       "6      4        4      4     1     1      3        0  12  12  11  \n",
       "7      4        1      4     1     1      1        6   6   5   6  \n",
       "8      4        2      2     1     1      1        0  16  18  19  \n",
       "9      5        5      1     1     1      5        0  14  15  15  \n",
       "\n",
       "[10 rows x 33 columns]"
      ]
     },
     "execution_count": 11,
     "metadata": {},
     "output_type": "execute_result"
    }
   ],
   "source": [
    "print(data.shape)\n",
    "data.head(10)"
   ]
  },
  {
   "cell_type": "markdown",
   "metadata": {
    "_uuid": "c5b90adbfd32467df03a6d5ade992391be1c49d0"
   },
   "source": [
    "**Question 2: does alcohol consumption has any correlations on family relationships?**\n",
    "\n",
    "Family relationships are self-answered by the students, so it might only reflect the student's own feelings on his/her family relationships, not the actual reality. Though, I don't think we need to consider any biases or any incentives to lie here. \n",
    "\n",
    "The variable 'Famrel' is a 1..5 scale depicting the student's view of their own family relationships. 1 is very bad, and 5 is very good. For analysis, we'll first group the students according to their total alcohol consumption every week (weekdays consumption + weekend consumption). Then we'll see how does each group see their own family relations.\n",
    "\n",
    "We'll also do the reverse, splitting based on family relations, then seeing how each category is on alcohol consumption frequency."
   ]
  },
  {
   "cell_type": "code",
   "execution_count": 12,
   "metadata": {
    "_uuid": "13431279df56b7cf12d9675179aaa15985e35460"
   },
   "outputs": [
    {
     "name": "stderr",
     "output_type": "stream",
     "text": [
      "/home/ardyh/anaconda3/lib/python3.7/site-packages/ipykernel_launcher.py:2: SettingWithCopyWarning: \n",
      "A value is trying to be set on a copy of a slice from a DataFrame.\n",
      "Try using .loc[row_indexer,col_indexer] = value instead\n",
      "\n",
      "See the caveats in the documentation: http://pandas.pydata.org/pandas-docs/stable/indexing.html#indexing-view-versus-copy\n",
      "  \n",
      "/home/ardyh/anaconda3/lib/python3.7/site-packages/ipykernel_launcher.py:5: SettingWithCopyWarning: \n",
      "A value is trying to be set on a copy of a slice from a DataFrame.\n",
      "Try using .loc[row_indexer,col_indexer] = value instead\n",
      "\n",
      "See the caveats in the documentation: http://pandas.pydata.org/pandas-docs/stable/indexing.html#indexing-view-versus-copy\n",
      "  \"\"\"\n"
     ]
    }
   ],
   "source": [
    "#create an attribute depicting total alcohol consumption\n",
    "studentsMS['TotalCons'] = studentsMS['Dalc'] + studentsMS['Walc']\n",
    "#print(studentsMS['TotalCons'].value_counts())\n",
    "\n",
    "studentsDP['TotalCons'] = studentsDP['Dalc'] + studentsDP['Walc']\n",
    "#print(studentsDP['TotalCons'].value_counts())\n",
    "\n",
    "#Group the students based on alcohol consumption frequency\n",
    "#Group1 = Low consumption; TotalCons = [1..3]\n",
    "#Group2 = Moderate consumption; TotalCons = [4..7]\n",
    "#Group1 = High consumption; TotalCons = [8..10]\n",
    "studentsDPLow = studentsDP.loc[(studentsDP['TotalCons'] >= 1) & (studentsDP['TotalCons'] <= 3),:]\n",
    "studentsMSLow = studentsMS.loc[(studentsMS['TotalCons'] >= 1) & (studentsMS['TotalCons'] <= 3),:]\n",
    "\n",
    "studentsDPMod = studentsDP.loc[(studentsDP['TotalCons'] >= 4) & (studentsDP['TotalCons'] <= 6),:]\n",
    "studentsMSMod = studentsMS.loc[(studentsMS['TotalCons'] >= 4) & (studentsMS['TotalCons'] <= 7),:]\n",
    "\n",
    "studentsDPHigh = studentsDP.loc[(studentsDP['TotalCons'] >= 7) & (studentsDP['TotalCons'] <= 10),:]\n",
    "studentsMSHigh = studentsMS.loc[(studentsMS['TotalCons'] >= 8) & (studentsMS['TotalCons'] <= 10),:]\n"
   ]
  },
  {
   "cell_type": "code",
   "execution_count": 13,
   "metadata": {},
   "outputs": [
    {
     "data": {
      "image/png": "[encoded data removed]",
      "text/plain": [
       "<Figure size 432x288 with 3 Axes>"
      ]
     },
     "metadata": {
      "needs_background": "light"
     },
     "output_type": "display_data"
    },
    {
     "name": "stdout",
     "output_type": "stream",
     "text": [
      "Average Famrel for Low Group 4.081218274111675\n",
      "Average Famrel for Mod Group 3.7815126050420167\n",
      "Average Famrel for High Group 3.878787878787879\n"
     ]
    }
   ],
   "source": [
    "#Showing the distribution of answers on family relationship variable\n",
    "fig, axs = plt.subplots(3,1, constrained_layout=True)\n",
    "axs[0].hist(studentsDPLow['famrel'])\n",
    "axs[0].set_title('Low Consumers Family Relationships')\n",
    "\n",
    "axs[1].hist(studentsDPMod['famrel'])\n",
    "axs[1].set_title('Moderate Consumers Family Relationships')\n",
    "\n",
    "axs[2].hist(studentsDPHigh['famrel'])\n",
    "axs[2].set_title('High Consumers Family Relationships')\n",
    "plt.show()\n",
    "\n",
    "print(\"Average Famrel for Low Group\", studentsDPLow['famrel'].mean())\n",
    "print(\"Average Famrel for Mod Group\", studentsDPMod['famrel'].mean())\n",
    "print(\"Average Famrel for High Group\", studentsDPHigh['famrel'].mean())"
   ]
  },
  {
   "cell_type": "markdown",
   "metadata": {},
   "source": [
    "There seems to be no difference on students' perception on family relationship, though the students who consume less alcohol seems to be the group with the highest perceived level of family relationship."
   ]
  },
  {
   "cell_type": "markdown",
   "metadata": {},
   "source": [
    "**Question 3: How does alcohol consumption correlate with parents' occupation?**"
   ]
  },
  {
   "cell_type": "code",
   "execution_count": 14,
   "metadata": {},
   "outputs": [
    {
     "name": "stdout",
     "output_type": "stream",
     "text": [
      "High Group: \n",
      "\n",
      "           Fjob  FPercent  Mjob  MPercent\n",
      "services    15  0.454545     9  0.321429\n",
      "other       14  0.424242    10  0.357143\n",
      "teacher      2  0.060606     7  0.250000\n",
      "health       2  0.060606     2  0.071429\n",
      "\n",
      "Mod Group: \n",
      "\n",
      "           Fjob  FPercent  Mjob  MPercent\n",
      "other       73  0.613445    41  0.344538\n",
      "services    34  0.285714    33  0.277311\n",
      "teacher      6  0.050420    17  0.142857\n",
      "at_home      4  0.033613    14  0.117647\n",
      "health       2  0.016807    14  0.117647\n",
      "\n",
      "Low Group: \n",
      "\n",
      "           Fjob  FPercent  Mjob  MPercent\n",
      "other      109  0.553299    71  0.360406\n",
      "services    43  0.218274    52  0.263959\n",
      "teacher     19  0.096447    28  0.142132\n",
      "health      14  0.071066    16  0.081218\n",
      "at_home     12  0.060914    30  0.152284\n"
     ]
    }
   ],
   "source": [
    "tempHigh = pd.DataFrame(data=studentsDPHigh['Fjob'].value_counts())\n",
    "tempHigh['FPercent'] = tempHigh['Fjob']/(tempHigh['Fjob'].sum())\n",
    "tempHigh['Mjob'] = studentsDPHigh['Mjob'].value_counts()\n",
    "tempHigh['MPercent'] = tempHigh['Mjob']/(tempHigh['Mjob'].sum())\n",
    "\n",
    "print(\"High Group: \\n\\n\", tempHigh)\n",
    "\n",
    "tempMod = pd.DataFrame(data=studentsDPMod['Fjob'].value_counts())\n",
    "tempMod['FPercent'] = tempMod['Fjob']/(tempMod['Fjob'].sum())\n",
    "tempMod['Mjob'] = studentsDPMod['Mjob'].value_counts()\n",
    "tempMod['MPercent'] = tempMod['Mjob']/(tempMod['Mjob'].sum())\n",
    "\n",
    "print(\"\\nMod Group: \\n\\n\", tempMod)\n",
    "\n",
    "tempLow = pd.DataFrame(data=studentsDPLow['Fjob'].value_counts())\n",
    "tempLow['FPercent'] = tempLow['Fjob']/(tempLow['Fjob'].sum())\n",
    "tempLow['Mjob'] = studentsDPLow['Mjob'].value_counts()\n",
    "tempLow['MPercent'] = tempLow['Mjob']/(tempLow['Mjob'].sum())\n",
    "\n",
    "print(\"\\nLow Group: \\n\\n\", tempLow)"
   ]
  },
  {
   "cell_type": "markdown",
   "metadata": {},
   "source": [
    "Originally, I would like to see whether students' alcohol consumption is highly correlated with parents' job, as it would influence the family economy and can predict how much alcohol students can buy, but it seems like the answer is not really representative, as there are only 5 groups of job. \n",
    "\n",
    "Though, as it stands, the distribution of jobs on low consumers and moderate consumers are pretty much the same. Only on high consumers the distribution is a bit skewed, as parents on services are almost on equal numbers as those on \"other\" jobs."
   ]
  },
  {
   "cell_type": "markdown",
   "metadata": {},
   "source": [
    "**Question 4: Does more alcohol consumption correlate with higher failure?**\n",
    "\n",
    "The variable failure in the data stands for class failures, which is a number in the range [1..4]"
   ]
  },
  {
   "cell_type": "code",
   "execution_count": 20,
   "metadata": {},
   "outputs": [
    {
     "data": {
      "text/plain": [
       "2     5\n",
       "6     3\n",
       "7     2\n",
       "10    1\n",
       "5     1\n",
       "4     1\n",
       "3     1\n",
       "Name: TotalCons, dtype: int64"
      ]
     },
     "execution_count": 20,
     "metadata": {},
     "output_type": "execute_result"
    }
   ],
   "source": [
    "#Selecting students whose failure are greater than tree, then see their weekly alcohol consumption \n",
    "studentsDP.loc[studentsDP['failures'] >= 3, 'TotalCons'].value_counts()"
   ]
  },
  {
   "cell_type": "markdown",
   "metadata": {
    "_uuid": "8a693341aec04297ef973391e42ac193e9bf00a0"
   },
   "source": [
    "Here, we can actually see that most of the students who fail a lot actually do consume a lot of alcohol over the week (6-10 times), although there are also many of them who are low on alcohol consumption (5)"
   ]
  },
  {
   "cell_type": "markdown",
   "metadata": {
    "_uuid": "9fca7d915d05414a2526768c57bddaf0050e9b85"
   },
   "source": [
    "So far these are the only questions I asked to the dataset, if you have any critics or any interesting ideas to ask to the dataset, please straightly contact me. Good day!"
   ]
  },
  {
   "cell_type": "code",
   "execution_count": null,
   "metadata": {
    "_uuid": "39592dcc4b62e504c6239a0c3b6c81e447061a79"
   },
   "outputs": [],
   "source": []
  },
  {
   "cell_type": "code",
   "execution_count": null,
   "metadata": {
    "_uuid": "06c9852cbbb0d2a38141677da056a8c61fa0f346"
   },
   "outputs": [],
   "source": []
  }
 ],
 "metadata": {
  "kernelspec": {
   "display_name": "Python 3",
   "language": "python",
   "name": "python3"
  },
  "language_info": {
   "codemirror_mode": {
    "name": "ipython",
    "version": 3
   },
   "file_extension": ".py",
   "mimetype": "text/x-python",
   "name": "python",
   "nbconvert_exporter": "python",
   "pygments_lexer": "ipython3",
   "version": "3.7.0"
  }
 },
 "nbformat": 4,
 "nbformat_minor": 1
}
